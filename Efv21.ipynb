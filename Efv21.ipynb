{
 "cells": [
  {
   "cell_type": "code",
   "execution_count": null,
   "id": "657ee40d-2292-4120-88ba-87d4a48f9b1b",
   "metadata": {},
   "outputs": [],
   "source": [
    "from keras.layers import Input, Lambda, Dense, Flatten\n",
    "from keras.models import Model\n",
    "\n",
    "from keras.applications.efficientnet_v2 import EfficientNetV2B1\n",
    "from keras.applications.vgg19 import preprocess_input\n",
    "from keras.preprocessing import image\n",
    "from tensorflow.keras.preprocessing.image import ImageDataGenerator\n",
    "from tensorflow import keras\n",
    "from tensorflow.keras import layers, models, callbacks\n",
    "import tensorflow as tf\n",
    "from keras.models import Sequential\n",
    "import numpy as np\n",
    "from glob import glob\n",
    "import matplotlib.pyplot as plt"
   ]
  },
  {
   "cell_type": "code",
   "execution_count": null,
   "id": "6ba17f90-0a5b-4645-a715-633c9e775a60",
   "metadata": {},
   "outputs": [],
   "source": [
    "import os\n",
    "import kaggle\n",
    "\n",
    "\n",
    "# Set up Kaggle API credentials\n",
    "download_path = '/tmp'\n",
    "# Downloading the data\n",
    "kaggle.api.dataset_download_files('paultimothymooney/chest-xray-pneumonia', path=download_path, unzip=True)"
   ]
  },
  {
   "cell_type": "code",
   "execution_count": null,
   "id": "51d140ec-0126-46d3-8a57-c5ae0e045858",
   "metadata": {},
   "outputs": [],
   "source": [
    "# This Python 3 environment comes with many helpful analytics libraries installed\n",
    "# It is defined by the kaggle/python Docker image: https://github.com/kaggle/docker-python\n",
    "# For example, here's several helpful packages to load\n",
    "import shutil\n",
    "import random\n",
    "\n",
    "import numpy as np # linear algebra\n",
    "import pandas as pd # data processing, CSV file I/O (e.g. pd.read_csv)\n",
    "\n",
    "# Input data files are available in the read-only \"../input/\" directory\n",
    "# For example, running this (by clicking run or pressing Shift+Enter) will list all files under the input directory\n",
    "\n",
    "import os\n",
    "for dirname, _, filenames in os.walk('/tmp/chest_xray/'):\n",
    "    for filename in filenames:\n",
    "        print(os.path.join(dirname, filename))\n",
    "\n",
    "# You can write up to 20GB to the current directory (/kaggle/working/) that gets preserved as output when you create a version using \"Save & Run All\" \n",
    "# You can also write temporary files to /kaggle/temp/, but they won't be saved outside of the current session\n",
    "\n",
    "dataset_path= '/tmp/chest_xray/'\n",
    "new_dataset_path = '/tmp/chest_xray_new/'\n",
    "if not os.path.exists(new_dataset_path):\n",
    "   for split in ['train', 'val', 'test']:\n",
    "       for cls in ['NORMAL', 'PNEUMONIA']:\n",
    "           os.makedirs(f'{new_dataset_path}/{split}/{cls}', exist_ok=True)\n",
    "\n",
    "   for cls in ['NORMAL', 'PNEUMONIA']:\n",
    "       all_files = []\n",
    "       for split in ['train', 'val', 'test']:\n",
    "           source_folder = f'{dataset_path}/{split}/{cls}'\n",
    "           files = os.listdir(source_folder)\n",
    "           all_files.extend([(file, source_folder) for file in files])\n",
    "\n",
    "       random.shuffle(all_files)\n",
    "\n",
    "       train_files = all_files[:int(len(all_files)*0.8)]\n",
    "       val_files = all_files[int(len(all_files)*0.8):int(len(all_files)*0.9)]\n",
    "       test_files = all_files[int(len(all_files)*0.9):]\n",
    "\n",
    "       for file, source_folder in train_files:\n",
    "           dest = f'{new_dataset_path}/train/{cls}/{file}'\n",
    "           shutil.copy(f'{source_folder}/{file}', dest)\n",
    "\n",
    "       for file, source_folder in val_files:\n",
    "           dest = f'{new_dataset_path}/val/{cls}/{file}'\n",
    "           shutil.copy(f'{source_folder}/{file}', dest)\n",
    "\n",
    "       for file, source_folder in test_files:\n",
    "           dest = f'{new_dataset_path}/test/{cls}/{file}'\n",
    "           shutil.copy(f'{source_folder}/{file}', dest) "
   ]
  },
  {
   "cell_type": "code",
   "execution_count": null,
   "id": "da6a047a-0964-4338-963c-d20f96174053",
   "metadata": {},
   "outputs": [],
   "source": [
    "input_shape = (224, 224, 3)\n",
    "\n",
    "train_path =  '/tmp/chest_xray_new/train'\n",
    "test_path =  '/tmp/chest_xray_new/test'\n",
    "valid_path =  '/tmp/chest_xray_new/val'\n"
   ]
  },
  {
   "cell_type": "code",
   "execution_count": 1,
   "id": "e88e30b8-4bab-464f-8016-83a9648caf35",
   "metadata": {},
   "outputs": [
    {
     "ename": "NameError",
     "evalue": "name 'EfficientNetV2B1' is not defined",
     "output_type": "error",
     "traceback": [
      "\u001b[1;31m---------------------------------------------------------------------------\u001b[0m",
      "\u001b[1;31mNameError\u001b[0m                                 Traceback (most recent call last)",
      "Cell \u001b[1;32mIn[1], line 1\u001b[0m\n\u001b[1;32m----> 1\u001b[0m Efv21 \u001b[38;5;241m=\u001b[39m \u001b[43mEfficientNetV2B1\u001b[49m(include_top\u001b[38;5;241m=\u001b[39m\u001b[38;5;28;01mFalse\u001b[39;00m, input_tensor\u001b[38;5;241m=\u001b[39minput_tensor, weights\u001b[38;5;241m=\u001b[39m\u001b[38;5;124m\"\u001b[39m\u001b[38;5;124mimagenet\u001b[39m\u001b[38;5;124m\"\u001b[39m)\n",
      "\u001b[1;31mNameError\u001b[0m: name 'EfficientNetV2B1' is not defined"
     ]
    }
   ],
   "source": [
    "input_tensor = Input(shape=input_shape)\n",
    "Efv21 = EfficientNetV2B1(include_top=False, input_tensor=input_tensor, weights=\"imagenet\")\n"
   ]
  },
  {
   "cell_type": "code",
   "execution_count": null,
   "id": "1c9ee147-aa75-440f-947a-e8c0027b5386",
   "metadata": {},
   "outputs": [],
   "source": [
    "\n",
    "# don't train existing weights\n",
    "for layer in Efv21.layers:\n",
    "    layer.trainable = False"
   ]
  },
  {
   "cell_type": "code",
   "execution_count": null,
   "id": "722664e7-fbbb-4547-ad85-4912ec626b8b",
   "metadata": {},
   "outputs": [],
   "source": [
    "# our layers - \n",
    "x = Flatten()(Efv21.output)"
   ]
  },
  {
   "cell_type": "code",
   "execution_count": null,
   "id": "bb0a3a2b-5c3b-4b05-bc2e-572eac37915d",
   "metadata": {},
   "outputs": [],
   "source": [
    "prediction = Dense(2, activation='softmax')(x)"
   ]
  },
  {
   "cell_type": "code",
   "execution_count": null,
   "id": "fb41c6ea-da18-4d34-9578-8ce806021f82",
   "metadata": {},
   "outputs": [],
   "source": [
    "model = Model(inputs=Efv21.input, outputs=prediction)"
   ]
  },
  {
   "cell_type": "code",
   "execution_count": null,
   "id": "b0dd75bb-b469-4593-8530-6952756d010d",
   "metadata": {},
   "outputs": [],
   "source": [
    "model.summary()"
   ]
  },
  {
   "cell_type": "code",
   "execution_count": null,
   "id": "4d38c737-c90b-4651-870c-3cf74b918af2",
   "metadata": {},
   "outputs": [],
   "source": [
    "from tensorflow.keras import callbacks, optimizers\n",
    "\n",
    "\n",
    "checkpoint_callback = callbacks.ModelCheckpoint(filepath=\"tmp/best_model.keras\", monitor='val_accuracy', save_best_only=True)\n",
    "\n",
    "from tensorflow.keras.callbacks import EarlyStopping\n",
    "\n",
    "# Define early stopping callback\n",
    "early_stopping_callback = EarlyStopping(monitor='val_accuracy', patience=5,mode='max', verbose=1 )\n",
    "\n",
    "model.compile(\n",
    "  loss='categorical_crossentropy',\n",
    "  optimizer='adam',\n",
    "  metrics=['accuracy']\n",
    ")"
   ]
  },
  {
   "cell_type": "code",
   "execution_count": null,
   "id": "40f741ff-ec39-41c1-978a-ec7fdc85bda4",
   "metadata": {},
   "outputs": [],
   "source": [
    "train_datagen = ImageDataGenerator(rescale = 1./255,\n",
    "                                   shear_range = 0.2,\n",
    "                                   zoom_range = 0.2,\n",
    "                                   horizontal_flip = True)\n",
    "valid_datagen = ImageDataGenerator(rescale = 1./255)\n",
    "\n",
    "test_datagen = ImageDataGenerator(rescale = 1./255)"
   ]
  },
  {
   "cell_type": "code",
   "execution_count": null,
   "id": "27a47059-8eb9-4b4c-8e46-9c8fcb44aa14",
   "metadata": {},
   "outputs": [],
   "source": [
    "training_set = train_datagen.flow_from_directory(train_path,\n",
    "                                                 target_size = (224, 224),\n",
    "                                                 batch_size = 32,\n",
    "                                                 class_mode = 'categorical')"
   ]
  },
  {
   "cell_type": "code",
   "execution_count": null,
   "id": "3d86347a-9d21-4d18-971e-dbd7ea1747ff",
   "metadata": {},
   "outputs": [],
   "source": [
    "valid_set = valid_datagen.flow_from_directory(test_path,\n",
    "                                            target_size = (224, 224),\n",
    "                                            batch_size = 32,\n",
    "                                            class_mode = 'categorical')"
   ]
  },
  {
   "cell_type": "code",
   "execution_count": null,
   "id": "57fede05-fb96-402b-b038-fca129173a16",
   "metadata": {},
   "outputs": [],
   "source": [
    "test_set = test_datagen.flow_from_directory(valid_path,\n",
    "                                            target_size = (224, 224),\n",
    "                                            batch_size = 32,\n",
    "                                            class_mode = 'categorical')"
   ]
  },
  {
   "cell_type": "code",
   "execution_count": null,
   "id": "79697311-2e88-4adc-833c-21e2f955171d",
   "metadata": {},
   "outputs": [],
   "source": [
    "import math\n",
    "import numpy as np\n",
    "batch_size=32\n",
    "\n",
    "number_of_examples = len(test_set.filenames)\n",
    "number_of_generator_calls = math.ceil(number_of_examples / batch_size)\n",
    "\n",
    "test_labels = []\n",
    "\n",
    "# Iterate through the generator calls\n",
    "for i in range(0, int(number_of_generator_calls)):\n",
    "    # Get the labels for the current batch\n",
    "    batch_labels = np.array(test_set[i][1])\n",
    "    test_labels.extend(batch_labels)\n",
    "    \n"
   ]
  },
  {
   "cell_type": "code",
   "execution_count": null,
   "id": "0ec0c69b-4a72-4888-a23b-3bbd50516b70",
   "metadata": {},
   "outputs": [],
   "source": [
    "# fit the model\n",
    "\n",
    "r = model.fit(\n",
    "  training_set,\n",
    "  validation_data=valid_set,\n",
    "  epochs=10,\n",
    " callbacks=[checkpoint_callback,early_stopping_callback]\n",
    ")\n"
   ]
  },
  {
   "cell_type": "code",
   "execution_count": null,
   "id": "69887e19-735b-404f-8daa-34280761f656",
   "metadata": {},
   "outputs": [],
   "source": [
    "# plot the loss\n",
    "plt.plot(r.history['loss'], label='train loss')\n",
    "plt.plot(r.history['val_loss'], label='val loss')\n",
    "plt.legend()\n",
    "plt.show()\n",
    "plt.savefig('LossVal_loss')\n",
    "\n",
    "# plot the accuracy\n",
    "plt.plot(r.history['accuracy'], label='train acc')\n",
    "plt.plot(r.history['val_accuracy'], label='val acc')\n",
    "\n",
    "plt.legend()\n",
    "plt.show()\n",
    "plt.savefig('AccVal_acc')"
   ]
  },
  {
   "cell_type": "code",
   "execution_count": null,
   "id": "8e1aa98e-79a5-45db-b9e8-746e29918310",
   "metadata": {},
   "outputs": [],
   "source": [
    "test_loss, test_acc = model.evaluate(test_set)\n",
    "print('Test accuracy:', test_acc)"
   ]
  },
  {
   "cell_type": "code",
   "execution_count": null,
   "id": "205b7e01-9000-456e-abb0-e61860e1bab4",
   "metadata": {},
   "outputs": [],
   "source": [
    "from sklearn.metrics import classification_report\n",
    "\n",
    "\n",
    "y_pred = model.predict(test_set)\n",
    "\n",
    "print(classification_report(np.argmax(test_labels,axis=1), np.argmax(y_pred,axis=1)))"
   ]
  },
  {
   "cell_type": "code",
   "execution_count": null,
   "id": "5c10f4e5-9d85-42e7-8016-f68003428804",
   "metadata": {},
   "outputs": [],
   "source": [
    "import tensorflow as tf\n",
    "\n",
    "from keras.models import load_model\n",
    "\n",
    "model.save('model_vgg19.h5')"
   ]
  },
  {
   "cell_type": "code",
   "execution_count": null,
   "id": "50e7c65e-5c3d-4475-a3f5-5763343dc570",
   "metadata": {},
   "outputs": [],
   "source": [
    "def show_image(img_name):\n",
    "  img = plt.imread(img_name)\n",
    "  plt.imshow(img)\n",
    "  plt.show()"
   ]
  },
  {
   "cell_type": "code",
   "execution_count": null,
   "id": "78963206-dcaf-40b0-b606-b65f0a7f7369",
   "metadata": {},
   "outputs": [],
   "source": []
  }
 ],
 "metadata": {
  "kernelspec": {
   "display_name": "Python 3 (ipykernel)",
   "language": "python",
   "name": "python3"
  },
  "language_info": {
   "codemirror_mode": {
    "name": "ipython",
    "version": 3
   },
   "file_extension": ".py",
   "mimetype": "text/x-python",
   "name": "python",
   "nbconvert_exporter": "python",
   "pygments_lexer": "ipython3",
   "version": "3.10.14"
  }
 },
 "nbformat": 4,
 "nbformat_minor": 5
}
